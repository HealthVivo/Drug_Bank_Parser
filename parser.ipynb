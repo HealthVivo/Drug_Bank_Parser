{
 "cells": [
  {
   "cell_type": "code",
   "execution_count": 5,
   "metadata": {},
   "outputs": [
    {
     "name": "stdout",
     "output_type": "stream",
     "text": [
      "Requirement already satisfied: xmlschema in ./venv/lib/python3.7/site-packages (1.1.0)\r\n",
      "Requirement already satisfied: elementpath~=1.4.0 in ./venv/lib/python3.7/site-packages (from xmlschema) (1.4.1)\r\n"
     ]
    }
   ],
   "source": [
    "import sys\n",
    "!{sys.executable} -m pip install xmlschema"
   ]
  },
  {
   "cell_type": "code",
   "execution_count": 6,
   "metadata": {},
   "outputs": [],
   "source": [
    "import xmlschema\n",
    "from pprint import pprint\n",
    "from xml.etree import ElementTree"
   ]
  },
  {
   "cell_type": "code",
   "execution_count": 7,
   "metadata": {},
   "outputs": [],
   "source": [
    "schema = xmlschema.XMLSchema('drugbank.xsd')"
   ]
  },
  {
   "cell_type": "code",
   "execution_count": 9,
   "metadata": {},
   "outputs": [],
   "source": [
    "xt = ElementTree.parse('full_database.xml')"
   ]
  },
  {
   "cell_type": "code",
   "execution_count": 10,
   "metadata": {},
   "outputs": [],
   "source": [
    "root = xt.getroot()"
   ]
  },
  {
   "cell_type": "code",
   "execution_count": null,
   "metadata": {},
   "outputs": [],
   "source": [
    "prefix = '{http://www.drugbank.ca}'"
   ]
  },
  {
   "cell_type": "code",
   "execution_count": 36,
   "metadata": {},
   "outputs": [
    {
     "name": "stdout",
     "output_type": "stream",
     "text": [
      "{http://www.drugbank.ca}drug {'type': 'biotech', 'created': '2005-06-13', 'updated': '2020-01-02'}\n",
      "{http://www.drugbank.ca}drug {'type': 'biotech', 'created': '2005-06-13', 'updated': '2020-01-02'}\n",
      "{http://www.drugbank.ca}drug {'type': 'biotech', 'created': '2005-06-13', 'updated': '2020-01-02'}\n",
      "{http://www.drugbank.ca}drug {'type': 'biotech', 'created': '2005-06-13', 'updated': '2020-01-02'}\n",
      "{http://www.drugbank.ca}drug {'type': 'biotech', 'created': '2005-06-13', 'updated': '2020-01-02'}\n"
     ]
    }
   ],
   "source": [
    "i = 0\n",
    "tags = set()\n",
    "for child in root:\n",
    "    print(child.tag, child.attrib)\n",
    "    for grandchild in child:\n",
    "        if grandchild.tag ==\n",
    "    i += 1\n",
    "    if i == 5: break"
   ]
  },
  {
   "cell_type": "code",
   "execution_count": 38,
   "metadata": {},
   "outputs": [
    {
     "name": "stdout",
     "output_type": "stream",
     "text": [
      "{'{http://www.drugbank.ca}absorption',\n",
      " '{http://www.drugbank.ca}affected-organisms',\n",
      " '{http://www.drugbank.ca}ahfs-codes',\n",
      " '{http://www.drugbank.ca}atc-codes',\n",
      " '{http://www.drugbank.ca}carriers',\n",
      " '{http://www.drugbank.ca}cas-number',\n",
      " '{http://www.drugbank.ca}categories',\n",
      " '{http://www.drugbank.ca}classification',\n",
      " '{http://www.drugbank.ca}clearance',\n",
      " '{http://www.drugbank.ca}description',\n",
      " '{http://www.drugbank.ca}dosages',\n",
      " '{http://www.drugbank.ca}drug-interactions',\n",
      " '{http://www.drugbank.ca}drugbank-id',\n",
      " '{http://www.drugbank.ca}enzymes',\n",
      " '{http://www.drugbank.ca}experimental-properties',\n",
      " '{http://www.drugbank.ca}external-identifiers',\n",
      " '{http://www.drugbank.ca}external-links',\n",
      " '{http://www.drugbank.ca}fda-label',\n",
      " '{http://www.drugbank.ca}food-interactions',\n",
      " '{http://www.drugbank.ca}general-references',\n",
      " '{http://www.drugbank.ca}groups',\n",
      " '{http://www.drugbank.ca}half-life',\n",
      " '{http://www.drugbank.ca}indication',\n",
      " '{http://www.drugbank.ca}international-brands',\n",
      " '{http://www.drugbank.ca}manufacturers',\n",
      " '{http://www.drugbank.ca}mechanism-of-action',\n",
      " '{http://www.drugbank.ca}metabolism',\n",
      " '{http://www.drugbank.ca}mixtures',\n",
      " '{http://www.drugbank.ca}msds',\n",
      " '{http://www.drugbank.ca}name',\n",
      " '{http://www.drugbank.ca}packagers',\n",
      " '{http://www.drugbank.ca}patents',\n",
      " '{http://www.drugbank.ca}pathways',\n",
      " '{http://www.drugbank.ca}pdb-entries',\n",
      " '{http://www.drugbank.ca}pharmacodynamics',\n",
      " '{http://www.drugbank.ca}prices',\n",
      " '{http://www.drugbank.ca}products',\n",
      " '{http://www.drugbank.ca}protein-binding',\n",
      " '{http://www.drugbank.ca}reactions',\n",
      " '{http://www.drugbank.ca}route-of-elimination',\n",
      " '{http://www.drugbank.ca}salts',\n",
      " '{http://www.drugbank.ca}sequences',\n",
      " '{http://www.drugbank.ca}snp-adverse-drug-reactions',\n",
      " '{http://www.drugbank.ca}snp-effects',\n",
      " '{http://www.drugbank.ca}state',\n",
      " '{http://www.drugbank.ca}synonyms',\n",
      " '{http://www.drugbank.ca}synthesis-reference',\n",
      " '{http://www.drugbank.ca}targets',\n",
      " '{http://www.drugbank.ca}toxicity',\n",
      " '{http://www.drugbank.ca}transporters',\n",
      " '{http://www.drugbank.ca}unii',\n",
      " '{http://www.drugbank.ca}volume-of-distribution'}\n"
     ]
    }
   ],
   "source": [
    "pprint(tags)"
   ]
  },
  {
   "cell_type": "code",
   "execution_count": 57,
   "metadata": {},
   "outputs": [],
   "source": [
    "dbid = '{http://www.drugbank.ca}drugbank-id'\n",
    "name = '{http://www.drugbank.ca}name'\n",
    "description = '{http://www.drugbank.ca}description'\n",
    "indication = '{http://www.drugbank.ca}indication'\n",
    "tags = set([name, description, indication])"
   ]
  },
  {
   "cell_type": "code",
   "execution_count": 77,
   "metadata": {},
   "outputs": [],
   "source": [
    "i = 0\n",
    "drugs = []\n",
    "for child in root:\n",
    "    #print(child.tag, child.attrib)\n",
    "    drug = {\n",
    "        dbid: str(),\n",
    "        name: str(),\n",
    "        description: str(),\n",
    "        indication: str()\n",
    "    }\n",
    "    for grandchild in child:\n",
    "        #print(grandchild.tag)\n",
    "        if grandchild.tag == dbid: \n",
    "            if grandchild.attrib:\n",
    "                #print(grandchild.tag, \"   \", grandchild.text) \n",
    "                drug[dbid] = grandchild.text\n",
    "        if grandchild.tag in tags:\n",
    "            #print(grandchild.tag, \"   \", grandchild.text)\n",
    "            drug[grandchild.tag] = grandchild.text\n",
    "    drugs.append(drug)\n",
    "    i += 1\n",
    "#pprint(drugs)"
   ]
  },
  {
   "cell_type": "code",
   "execution_count": 67,
   "metadata": {},
   "outputs": [
    {
     "name": "stdout",
     "output_type": "stream",
     "text": [
      "Collecting pandas\n",
      "  Using cached pandas-1.0.1-cp37-cp37m-macosx_10_9_x86_64.whl (9.8 MB)\n",
      "Collecting pytz>=2017.2\n",
      "  Using cached pytz-2019.3-py2.py3-none-any.whl (509 kB)\n",
      "Requirement already satisfied: python-dateutil>=2.6.1 in ./venv/lib/python3.7/site-packages (from pandas) (2.8.1)\n",
      "Collecting numpy>=1.13.3\n",
      "  Using cached numpy-1.18.1-cp37-cp37m-macosx_10_9_x86_64.whl (15.1 MB)\n",
      "Requirement already satisfied: six>=1.5 in ./venv/lib/python3.7/site-packages (from python-dateutil>=2.6.1->pandas) (1.14.0)\n",
      "Installing collected packages: pytz, numpy, pandas\n",
      "Successfully installed numpy-1.18.1 pandas-1.0.1 pytz-2019.3\n"
     ]
    },
    {
     "data": {
      "text/html": [
       "<div>\n",
       "<style scoped>\n",
       "    .dataframe tbody tr th:only-of-type {\n",
       "        vertical-align: middle;\n",
       "    }\n",
       "\n",
       "    .dataframe tbody tr th {\n",
       "        vertical-align: top;\n",
       "    }\n",
       "\n",
       "    .dataframe thead th {\n",
       "        text-align: right;\n",
       "    }\n",
       "</style>\n",
       "<table border=\"1\" class=\"dataframe\">\n",
       "  <thead>\n",
       "    <tr style=\"text-align: right;\">\n",
       "      <th></th>\n",
       "    </tr>\n",
       "  </thead>\n",
       "  <tbody>\n",
       "  </tbody>\n",
       "</table>\n",
       "</div>"
      ],
      "text/plain": [
       "Empty DataFrame\n",
       "Columns: []\n",
       "Index: []"
      ]
     },
     "execution_count": 67,
     "metadata": {},
     "output_type": "execute_result"
    }
   ],
   "source": [
    "!{sys.executable} -m pip install pandas\n",
    "import pandas as pd"
   ]
  },
  {
   "cell_type": "code",
   "execution_count": 78,
   "metadata": {},
   "outputs": [],
   "source": [
    "df = pd.DataFrame(drugs)\n",
    "df\n",
    "df.to_csv('Drugbank.csv')"
   ]
  },
  {
   "cell_type": "code",
   "execution_count": null,
   "metadata": {},
   "outputs": [],
   "source": []
  }
 ],
 "metadata": {
  "kernelspec": {
   "display_name": "Python 3",
   "language": "python",
   "name": "python3"
  },
  "language_info": {
   "codemirror_mode": {
    "name": "ipython",
    "version": 3
   },
   "file_extension": ".py",
   "mimetype": "text/x-python",
   "name": "python",
   "nbconvert_exporter": "python",
   "pygments_lexer": "ipython3",
   "version": "3.7.6"
  }
 },
 "nbformat": 4,
 "nbformat_minor": 4
}
